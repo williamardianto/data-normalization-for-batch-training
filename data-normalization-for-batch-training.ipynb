{
 "cells": [
  {
   "cell_type": "code",
   "execution_count": 2,
   "metadata": {},
   "outputs": [],
   "source": [
    "# ref http://notmatthancock.github.io/2017/03/23/simple-batch-stat-updates.html\n",
    "import numpy as np"
   ]
  },
  {
   "cell_type": "code",
   "execution_count": 90,
   "metadata": {},
   "outputs": [],
   "source": [
    "class StatsRecorder:\n",
    "    def __init__(self, data=None):\n",
    "        \"\"\"\n",
    "        data: ndarray, shape (nobservations, ndimensions)\n",
    "        \"\"\"\n",
    "        if data is not None:\n",
    "            data = np.atleast_2d(data)\n",
    "            self.mean = data.mean(axis=0)\n",
    "            self.std  = data.std(axis=0)\n",
    "            self.nobservations = data.shape[0]\n",
    "            self.ndimensions   = data.shape[1]\n",
    "        else:\n",
    "            self.nobservations = 0\n",
    "\n",
    "    def update(self, data):\n",
    "        \"\"\"\n",
    "        data: ndarray, shape (nobservations, ndimensions)\n",
    "        \"\"\"\n",
    "        if self.nobservations == 0:\n",
    "            self.__init__(data)\n",
    "        else:\n",
    "            data = np.atleast_2d(data)\n",
    "            if data.shape[1] != self.ndimensions:\n",
    "                raise ValueError(\"Data dims don't match prev observations.\")\n",
    "\n",
    "            newmean = data.mean(axis=0)\n",
    "            newstd  = data.std(axis=0)\n",
    "\n",
    "            m = self.nobservations * 1.0\n",
    "            n = data.shape[0]\n",
    "\n",
    "            tmp = self.mean\n",
    "\n",
    "            self.mean = m/(m+n)*tmp + n/(m+n)*newmean\n",
    "            self.std  = m/(m+n)*self.std**2 + n/(m+n)*newstd**2 +\\\n",
    "                        m*n/(m+n)**2 * (tmp - newmean)**2\n",
    "            self.std  = np.sqrt(self.std)\n",
    "\n",
    "            self.nobservations += n"
   ]
  },
  {
   "cell_type": "code",
   "execution_count": 91,
   "metadata": {},
   "outputs": [
    {
     "data": {
      "text/plain": [
       "array([-0.00018205,  0.00027317, -0.00049592])"
      ]
     },
     "execution_count": 91,
     "metadata": {},
     "output_type": "execute_result"
    }
   ],
   "source": [
    "rs = np.random.RandomState(1)\n",
    "data = rs.randn(1000000, 3)\n",
    "data_mean = data.mean(axis=0)\n",
    "data_mean"
   ]
  },
  {
   "cell_type": "code",
   "execution_count": 92,
   "metadata": {},
   "outputs": [
    {
     "data": {
      "text/plain": [
       "array([-0.00018205,  0.00027317, -0.00049592])"
      ]
     },
     "execution_count": 92,
     "metadata": {},
     "output_type": "execute_result"
    }
   ],
   "source": [
    "data_split = np.split(data, 10000)\n",
    "recorder = StatsRecorder()\n",
    "\n",
    "for c in data_split:\n",
    "    recorder.update(c)\n",
    "\n",
    "recorder.mean\n"
   ]
  },
  {
   "cell_type": "code",
   "execution_count": null,
   "metadata": {},
   "outputs": [],
   "source": []
  }
 ],
 "metadata": {
  "kernelspec": {
   "display_name": "Python 3",
   "language": "python",
   "name": "python3"
  },
  "language_info": {
   "codemirror_mode": {
    "name": "ipython",
    "version": 3
   },
   "file_extension": ".py",
   "mimetype": "text/x-python",
   "name": "python",
   "nbconvert_exporter": "python",
   "pygments_lexer": "ipython3",
   "version": "3.6.7"
  }
 },
 "nbformat": 4,
 "nbformat_minor": 2
}
